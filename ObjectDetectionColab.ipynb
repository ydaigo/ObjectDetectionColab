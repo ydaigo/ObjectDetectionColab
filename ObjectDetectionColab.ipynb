{
  "nbformat": 4,
  "nbformat_minor": 0,
  "metadata": {
    "colab": {
      "name": "ObjectDetectionColab.ipynb",
      "provenance": [],
      "collapsed_sections": [],
      "authorship_tag": "ABX9TyM0tB5fhVovpMkYyjlwue0d",
      "include_colab_link": true
    },
    "kernelspec": {
      "name": "python3",
      "display_name": "Python 3"
    },
    "accelerator": "GPU"
  },
  "cells": [
    {
      "cell_type": "markdown",
      "metadata": {
        "id": "view-in-github",
        "colab_type": "text"
      },
      "source": [
        "<a href=\"https://colab.research.google.com/github/ydaigo/ObjectDetectionColab/blob/master/ObjectDetectionColab.ipynb\" target=\"_parent\"><img src=\"https://colab.research.google.com/assets/colab-badge.svg\" alt=\"Open In Colab\"/></a>"
      ]
    },
    {
      "cell_type": "markdown",
      "metadata": {
        "id": "G9mTTfiKb48s",
        "colab_type": "text"
      },
      "source": [
        "#セットアップ\n",
        "実行に10分ほどかかります。"
      ]
    },
    {
      "cell_type": "code",
      "metadata": {
        "id": "NcskM1YzgCHe",
        "colab_type": "code",
        "colab": {}
      },
      "source": [
        "%%time\n",
        "%reload_ext autoreload\n",
        "%autoreload 2\n",
        "%matplotlib inline\n",
        "!git clone https://github.com/ydaigo/ObjectDetectionColab.git\n",
        "!sh /content/ObjectDetectionColab/setup.sh\n",
        "%cd /content/ObjectDetectionColab/mmdetection\n",
        "import os\n",
        "from mmdet.apis import init_detector, inference_detector\n",
        "# Standard output of images from mmdetection is slightly rewritten for some flexibility\n",
        "from utils.viz import show_result\n",
        "config_path = 'configs/'\n",
        "os.makedirs(os.path.dirname(config_path), exist_ok=True)\n",
        "model_path = 'models/'\n",
        "os.makedirs(os.path.dirname(model_path), exist_ok=True)\n",
        "img_path = 'imgs/'\n",
        "os.makedirs(os.path.dirname(img_path), exist_ok=True)"
      ],
      "execution_count": 0,
      "outputs": []
    },
    {
      "cell_type": "markdown",
      "metadata": {
        "id": "lEQOO5lsdldK",
        "colab_type": "text"
      },
      "source": [
        "#物体検出"
      ]
    },
    {
      "cell_type": "code",
      "metadata": {
        "id": "K20zmS5Wdpse",
        "colab_type": "code",
        "colab": {}
      },
      "source": [
        "#テスト画像のダウンロード\n",
        "!wget https://t2.ea.ltmcdn.com/en/images/8/7/3/img_5_hairless_cat_breeds_2378_600.jpg -O imgs/sphynx.png\n",
        "!wget https://economia.me/i/2019/03/appliances-cabin-island-house-modern-kitchen-and-gloss-cabinets-cottage-pictures-da-color-white-rustic-small-wood-country-design-photos-beach-floors-grey-images-log-decorating.jpg -O imgs/kitchen.jpg\n",
        "#重みのダウンロード\n",
        "!wget https://s3.ap-northeast-2.amazonaws.com/open-mmlab/mmdetection/models/faster_rcnn_x101_64x4d_fpn_1x_20181218-c9c69c8f.pth -O models/faster_rcnn_x101_64x4d_fpn_1x.pth\n",
        "!wget https://s3.ap-northeast-2.amazonaws.com/open-mmlab/mmdetection/models/mask_rcnn_x101_64x4d_fpn_1x_20181218-cb159987.pth -O models/mask_rcnn_x101_64x4d_fpn_1x.pth"
      ],
      "execution_count": 0,
      "outputs": []
    },
    {
      "cell_type": "code",
      "metadata": {
        "id": "Fpkr_oQTeVqK",
        "colab_type": "code",
        "colab": {}
      },
      "source": [
        "#モデルのロード\n",
        "config_file = config_path+'faster_rcnn_x101_64x4d_fpn_1x.py'\n",
        "checkpoint_file = model_path+'faster_rcnn_x101_64x4d_fpn_1x.pth'\n",
        "model = init_detector(config_file, checkpoint_file, device='cuda:0')"
      ],
      "execution_count": 0,
      "outputs": []
    },
    {
      "cell_type": "code",
      "metadata": {
        "id": "QkgkLAn7NFTg",
        "colab_type": "code",
        "colab": {}
      },
      "source": [
        "#推論1\n",
        "img = 'imgs/sphynx.png'\n",
        "result = inference_detector(model, img)\n",
        "show_result(img, result, model.CLASSES, score_thr=0.7, font_scale=.6, thickness=1, show_mask=False)"
      ],
      "execution_count": 0,
      "outputs": []
    },
    {
      "cell_type": "code",
      "metadata": {
        "id": "bxX4RwI89Qxi",
        "colab_type": "code",
        "colab": {}
      },
      "source": [
        "#推論２\n",
        "img = 'imgs/kitchen.jpg'\n",
        "result = inference_detector(model, img)\n",
        "show_result(img, result, model.CLASSES, score_thr=0.5, font_scale=.6, thickness=2, show_mask=False)"
      ],
      "execution_count": 0,
      "outputs": []
    },
    {
      "cell_type": "markdown",
      "metadata": {
        "id": "msSVo39wQtE0",
        "colab_type": "text"
      },
      "source": [
        "#物体領域抽出(セマンティックセグメンテーション)"
      ]
    },
    {
      "cell_type": "code",
      "metadata": {
        "id": "8wcx58kCrUcu",
        "colab_type": "code",
        "colab": {}
      },
      "source": [
        "#モデルのロード\n",
        "config_file = config_path+'mask_rcnn_x101_64x4d_fpn_1x.py'\n",
        "checkpoint_file = model_path+'mask_rcnn_x101_64x4d_fpn_1x.pth'\n",
        "model = init_detector(config_file, checkpoint_file, device='cuda:0')"
      ],
      "execution_count": 0,
      "outputs": []
    },
    {
      "cell_type": "code",
      "metadata": {
        "id": "KK7_FBbPQxXE",
        "colab_type": "code",
        "colab": {}
      },
      "source": [
        "#推論\n",
        "img = 'imgs/kitchen.jpg'\n",
        "result = inference_detector(model, img)\n",
        "show_result(img, result, model.CLASSES, score_thr=0.5, font_scale=.6, thickness=2, show_mask=True)"
      ],
      "execution_count": 0,
      "outputs": []
    },
    {
      "cell_type": "markdown",
      "metadata": {
        "id": "uGhGjdh9_9RQ",
        "colab_type": "text"
      },
      "source": [
        "#転移学習"
      ]
    },
    {
      "cell_type": "code",
      "metadata": {
        "id": "Ve40RXINFDzC",
        "colab_type": "code",
        "colab": {}
      },
      "source": [
        "%cd /content/ObjectDetectionColab/mmdetection\n",
        "from utils.make_annot import annot\n",
        "label_dict = {'Panda':1}\n",
        "path_to_OID_train_imgs = '/content/ObjectDetectionColab/mmdetection/OIDv4_ToolKit/OID/Dataset/train/Panda/'\n",
        "path_to_OID_valid_imgs = '/content/ObjectDetectionColab/mmdetection/OIDv4_ToolKit/OID/Dataset/validation/Panda/'\n",
        "\n",
        "#pklファイルの作成\n",
        "annot(path_to_OID_train_imgs, label_dict, train_data=True)\n",
        "annot(path_to_OID_valid_imgs, label_dict, train_data=False)\n",
        "import pickle\n",
        "with open('annotations_val.pkl', 'rb') as f:\n",
        "    x = pickle.load(f)"
      ],
      "execution_count": 0,
      "outputs": []
    },
    {
      "cell_type": "code",
      "metadata": {
        "id": "qriCT2yAFIzg",
        "colab_type": "code",
        "colab": {}
      },
      "source": [
        "#学習\n",
        "#34分かかる\n",
        "%%time\n",
        "!chmod +x ./tools/dist_train.sh\n",
        "%cd /content/ObjectDetectionColab/mmdetection\n",
        "!tools/dist_train.sh \\\n",
        "configs/faster_rcnn_r50_fpn_1x_our_version.py 1 --validate"
      ],
      "execution_count": 0,
      "outputs": []
    },
    {
      "cell_type": "code",
      "metadata": {
        "id": "TyxmByxvRmrW",
        "colab_type": "code",
        "colab": {}
      },
      "source": [
        "!wget https://www.aws-s.com/getImage.php?path=eve053_l1.jpg -O imgs/pandas.jpg\n",
        "!wget https://github.com/ydaigo/ObjectDetectionColab/releases/download/a/panda.pth -O models/panda12.pth"
      ],
      "execution_count": 0,
      "outputs": []
    },
    {
      "cell_type": "code",
      "metadata": {
        "id": "F1psUNI5RYpC",
        "colab_type": "code",
        "colab": {}
      },
      "source": [
        "from mmdet.apis import init_detector, inference_detector\n",
        "\n",
        "# Standard output of images from mmdetection is slightly rewritten for some flexibility\n",
        "from utils.viz import show_result\n",
        "\n",
        "config_file = 'configs/faster_rcnn_r50_fpn_1x_our_version.py'\n",
        "checkpoint_file = '/content/ObjectDetectionColab/mmdetection/models/panda12.pth'\n",
        "\n",
        "# Loading the model from the config and saved checkpoint, inference to GPU\n",
        "model = init_detector(config_file, checkpoint_file, device='cuda:0')"
      ],
      "execution_count": 0,
      "outputs": []
    },
    {
      "cell_type": "code",
      "metadata": {
        "id": "iLzkUAKjFWOx",
        "colab_type": "code",
        "collapsed": true,
        "colab": {}
      },
      "source": [
        "classes = ['Panda']\n",
        "img = 'imgs/pandas.jpg'\n",
        "result = inference_detector(model, img)\n",
        "show_result(img, result, classes, score_thr=0.9, font_scale=1., thickness=2, show_mask=False)"
      ],
      "execution_count": 0,
      "outputs": []
    }
  ]
}